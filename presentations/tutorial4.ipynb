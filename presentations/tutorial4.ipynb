{
  "cells": [
    {
      "cell_type": "markdown",
      "source": [
        "\n",
        "<img src='https://github.com/CLAIR-LAB-TECHNION/CLAI/blob/main/tutorials/assets/tut04_creation_of_ai.png?raw=true' width=900/>"
      ],
      "metadata": {
        "id": "hp1H54SQLRUU"
      },
      "id": "hp1H54SQLRUU"
    },
    {
      "cell_type": "markdown",
      "source": [
        "\n",
        "<img src='https://github.com/CLAIR-LAB-TECHNION/CLAI/blob/main/tutorials/assets/reward_hypothesis.jpeg?raw=true' width=900/>"
      ],
      "metadata": {
        "id": "YE9DmJXuQpwV"
      },
      "id": "YE9DmJXuQpwV"
    },
    {
      "cell_type": "markdown",
      "id": "3062797e",
      "metadata": {
        "id": "3062797e"
      },
      "source": [
        "<img src='https://github.com/CLAIR-LAB-TECHNION/CLAI/blob/main/tutorials/assets/tut04_Reward.png?raw=true'>"
      ]
    },
    {
      "cell_type": "markdown",
      "id": "a841126b",
      "metadata": {
        "id": "a841126b"
      },
      "source": [
        "<img src='https://github.com/CLAIR-LAB-TECHNION/CLAI/blob/main/tutorials/assets/tut04_rl_anatomy.png?raw=true'>"
      ]
    },
    {
      "cell_type": "markdown",
      "id": "76c46b16",
      "metadata": {
        "id": "76c46b16"
      },
      "source": [
        "<img src='https://github.com/CLAIR-LAB-TECHNION/CLAI/blob/main/tutorials/assets/tut04_pg_scheme.png?raw=true'>"
      ]
    },
    {
      "cell_type": "markdown",
      "source": [
        "# Task 1\n",
        "\n",
        "<img src='https://gymnasium.farama.org/_images/cart_pole.gif' width=800/>"
      ],
      "metadata": {
        "id": "cbYMviBn6qTL"
      },
      "id": "cbYMviBn6qTL"
    },
    {
      "cell_type": "markdown",
      "metadata": {
        "id": "BedIHrjJ25Hm"
      },
      "source": [
        "<img src='https://github.com/CLAIR-LAB-TECHNION/CLAI/blob/main/tutorials/assets/tut04_objective_func_1.png?raw=true'>"
      ],
      "id": "BedIHrjJ25Hm"
    },
    {
      "cell_type": "markdown",
      "id": "9689d94e",
      "metadata": {
        "id": "9689d94e"
      },
      "source": [
        "<img src='https://github.com/CLAIR-LAB-TECHNION/CLAI/blob/main/tutorials/assets/tut04_objective_func_2.png?raw=true'>"
      ]
    },
    {
      "cell_type": "markdown",
      "id": "ebdd4f28",
      "metadata": {
        "id": "ebdd4f28"
      },
      "source": [
        "\n",
        "<img src='https://github.com/CLAIR-LAB-TECHNION/CLAI/blob/main/tutorials/assets/tut04_objective_func_3.png?raw=true'>"
      ]
    },
    {
      "cell_type": "markdown",
      "source": [
        "\n",
        "\n",
        "$$\n",
        "\\begin{align*}\n",
        "\\nabla_{\\theta} J(\\pi_{\\theta}) &= \\nabla_{\\theta} \\mathbb{E}_{\\tau \\sim \\pi_{\\theta}}[R(\\tau)] \\\\\n",
        "&= \\nabla_{\\theta} \\int_{\\tau} P(\\tau|\\theta) R(\\tau) \\quad \\text{(Expand expectation)} \\\\\n",
        "&= \\int_{\\tau} \\nabla_{\\theta} P(\\tau|\\theta) R(\\tau) \\quad \\text{(Bring gradient under integral)} \\\\\n",
        "&= \\int_{\\tau} P(\\tau|\\theta) \\nabla_{\\theta} \\log P(\\tau|\\theta) R(\\tau) \\quad \\text{(Log-derivative trick)} \\\\\n",
        "&= \\mathbb{E}_{\\tau \\sim \\pi_{\\theta}}[\\nabla_{\\theta} \\log P(\\tau|\\theta) R(\\tau)] \\quad \\text{(Return to expectation form)} \\\\\n",
        "\\therefore \\nabla_{\\theta} J(\\pi_{\\theta}) &= \\mathbb{E}_{\\tau \\sim \\pi_{\\theta}} \\left[ \\sum_{t=0}^{T} \\nabla_{\\theta} \\log \\pi_{\\theta}(a_t |s_t) R(\\tau) \\right]\n",
        "\\end{align*}\n",
        "$$"
      ],
      "metadata": {
        "id": "WSvpOeWcPbg9"
      },
      "id": "WSvpOeWcPbg9"
    },
    {
      "cell_type": "markdown",
      "metadata": {
        "id": "Xi9c0ysk3hdg"
      },
      "source": [
        "\n",
        "<img src='https://github.com/CLAIR-LAB-TECHNION/CLAI/blob/main/tutorials/assets/tut04_pg_one_tj.png?raw=true'>"
      ],
      "id": "Xi9c0ysk3hdg"
    },
    {
      "cell_type": "markdown",
      "metadata": {
        "id": "uT90ptKG3hgp"
      },
      "source": [
        "\n",
        "<img src='https://github.com/CLAIR-LAB-TECHNION/CLAI/blob/main/tutorials/assets/tut04_pg_multiple.png?raw=true'>"
      ],
      "id": "uT90ptKG3hgp"
    },
    {
      "cell_type": "markdown",
      "source": [
        "# Task 2: High-Level Pseudocode for the REINFORCE Algorithm\n",
        "\n",
        "1. Initialize policy parameters $\\theta$\n",
        "2. For each episode:\n",
        "    - Sample a trajectory $\\tau$ by running the policy $\\pi_{\\theta}$\n",
        "    - Compute the cumulative reward $R(\\tau)$\n",
        "    - Compute the gradient estimate $\\hat{g} = \\sum_{t=1}^{T} \\nabla_{\\theta} \\log \\pi_{\\theta}(a_t \\mid s_t) R(\\tau)$\n",
        "    - Update the policy parameters: $\\theta \\leftarrow \\theta + \\alpha \\hat{g}$\n"
      ],
      "metadata": {
        "id": "nZ2KT9fG72Rf"
      },
      "id": "nZ2KT9fG72Rf"
    },
    {
      "cell_type": "markdown",
      "metadata": {
        "id": "VPyB7qMF36dz"
      },
      "source": [
        "\n",
        "<img src='https://github.com/CLAIR-LAB-TECHNION/CLAI/blob/main/tutorials/assets/tut04_ml_comparison.png?raw=true'>"
      ],
      "id": "VPyB7qMF36dz"
    },
    {
      "cell_type": "markdown",
      "metadata": {
        "id": "jXt47QDC4lRP"
      },
      "source": [
        "\n",
        "<img src='https://github.com/CLAIR-LAB-TECHNION/CLAI/blob/main/tutorials/assets/tut04_pg_issues.png?raw=true'>"
      ],
      "id": "jXt47QDC4lRP"
    },
    {
      "cell_type": "markdown",
      "metadata": {
        "id": "WM0WW81G4xl8"
      },
      "source": [
        "\n",
        "<img src='https://github.com/CLAIR-LAB-TECHNION/CLAI/blob/main/tutorials/assets/tut04_reducing_var.png?raw=true'>"
      ],
      "id": "WM0WW81G4xl8"
    }
  ],
  "metadata": {
    "celltoolbar": "Slideshow",
    "kernelspec": {
      "display_name": "Python 3 (ipykernel)",
      "language": "python",
      "name": "python3"
    },
    "language_info": {
      "codemirror_mode": {
        "name": "ipython",
        "version": 3
      },
      "file_extension": ".py",
      "mimetype": "text/x-python",
      "name": "python",
      "nbconvert_exporter": "python",
      "pygments_lexer": "ipython3",
      "version": "3.8.19"
    },
    "colab": {
      "provenance": []
    }
  },
  "nbformat": 4,
  "nbformat_minor": 5
}