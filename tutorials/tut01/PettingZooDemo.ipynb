{
  "cells": [
    {
      "cell_type": "markdown",
      "id": "9a7aaea8-bcbb-45ee-aea6-ca25217c48fe",
      "metadata": {
        "tags": [],
        "id": "9a7aaea8-bcbb-45ee-aea6-ca25217c48fe"
      },
      "source": [
        "# PettingZoo Speaker-Listener Environment Demonstration\n",
        "\n",
        "## Introduction\n",
        "\n",
        "[PettingZoo](https://pettingzoo.farama.org/) is a Python library for conducting research in multi-agent reinforcement learning, akin to a multi-agent version of [Gym](https://github.com/openai/gym). It implements a variety of environments, including:\n",
        "- [Atari](https://pettingzoo.farama.org/environments/atari/): Multi-player Atari 2600 games (cooperative, competitive and mixed sum)\n",
        "- [Butterfly](https://pettingzoo.farama.org/environments/butterfly/): Cooperative graphical games developed by us, requiring a high degree of coordination\n",
        "- [Classic](https://pettingzoo.farama.org/environments/classic/): Classical games including card games, board games, etc.\n",
        "- [MAgent](https://www.pettingzoo.ml/magent): Configurable environments with massive numbers of particle agents, originally from https://github.com/geek-ai/MAgent\n",
        "- [MPE](https://pettingzoo.farama.org/environments/mpe/): A set of simple nongraphical communication tasks, originally from https://github.com/openai/multiagent-particle-envs\n",
        "- [SISL](https://pettingzoo.farama.org/environments/sisl/): 3 cooperative environments, originally from https://github.com/sisl/MADRL\n",
        "\n",
        "<img src=\"https://raw.githubusercontent.com/Farama-Foundation/PettingZoo/master/pettingzoo-text.png\" width=\"500\" align=\"center\"/>\n",
        "\n",
        "The [Simple Speaker Listener Environment](https://pettingzoo.farama.org/environments/mpe/simple_speaker_listener/) is implemented in the MPE library. It is a 2-agent environment in which one agent, the \"speaker\", has information about the goal and has a limmited mode of communication with the second agent, the \"listener\", which must use the speaker's communications and its limitted observations to navigate a 2D space toward the goal. The speaker agent cannot navigate, and the listener object cannot communicate.\n",
        "\n",
        "<img src=\"https://pettingzoo.farama.org/_images/mpe_simple_speaker_listener.gif\" width=\"500\" align=\"center\"/>"
      ]
    },
    {
      "cell_type": "code",
      "execution_count": 1,
      "id": "26db1ca7-314b-4d99-8837-67296eda297f",
      "metadata": {
        "id": "26db1ca7-314b-4d99-8837-67296eda297f"
      },
      "outputs": [],
      "source": [
        "%%capture\n",
        "!pip install 'pettingzoo[mpe]==1.14.0'"
      ]
    },
    {
      "cell_type": "markdown",
      "id": "3ac223ec-ee40-4223-bfb0-4bad186323b0",
      "metadata": {
        "id": "3ac223ec-ee40-4223-bfb0-4bad186323b0"
      },
      "source": [
        "## Environment Description\n",
        " We can create an environment instance using the `env` function which accepts two parameters:\n",
        "1. `max_cycles` - the number of actions each agent can perform before the end of the episode. _default=25_\n",
        "2. `continuous_actions` - if `True`, both the speaker and the listener have a continuous action space. otherwise they are discrete, finite spaces. _default=False_\n",
        "\n",
        "The environment object implements many usful tools to help understand and properly utilize the environment. Below we use the `agents` attribute to iterate over the agent names, and the `observation_space` and `action_space` functions to show the [gym spaces](https://gym.openai.com/docs/#spaces) for the agents observation and action spaces."
      ]
    },
    {
      "cell_type": "code",
      "execution_count": 2,
      "id": "063ae7f1-49fa-46fe-b475-a67ad8fb99c5",
      "metadata": {
        "colab": {
          "base_uri": "https://localhost:8080/"
        },
        "id": "063ae7f1-49fa-46fe-b475-a67ad8fb99c5",
        "outputId": "a3201dc5-5f5a-44f5-b182-b8c628dfbcee"
      },
      "outputs": [
        {
          "output_type": "stream",
          "name": "stdout",
          "text": [
            "discrete actions:\n",
            "- agent 1: speaker_0\n",
            "\t- observation space: Box(-inf, inf, (3,), float32)\n",
            "\t- action space: Discrete(3)\n",
            "- agent 2: listener_0\n",
            "\t- observation space: Box(-inf, inf, (11,), float32)\n",
            "\t- action space: Discrete(5)\n",
            "\n",
            "continuous actions:\n",
            "- agent 1: speaker_0\n",
            "\t- observation space: Box(-inf, inf, (3,), float32)\n",
            "\t- action space: Box(0.0, 1.0, (3,), float32)\n",
            "- agent 2: listener_0\n",
            "\t- observation space: Box(-inf, inf, (11,), float32)\n",
            "\t- action space: Box(0.0, 1.0, (5,), float32)\n"
          ]
        }
      ],
      "source": [
        "from pettingzoo.mpe import simple_speaker_listener_v3\n",
        "import numpy as np\n",
        "\n",
        "\n",
        "def print_env_info(continuous_actions):\n",
        "    env = simple_speaker_listener_v3.env(continuous_actions=continuous_actions)\n",
        "    env.reset()\n",
        "\n",
        "    print('continuous actions:' if continuous_actions else 'discrete actions:')\n",
        "\n",
        "    for i, agent in enumerate(env.agents, 1):\n",
        "        print(f'- agent {i}: {agent}')\n",
        "        print(f'\\t- observation space: {env.observation_space(agent)}')\n",
        "        print(f'\\t- action space: {env.action_space(agent)}')\n",
        "\n",
        "\n",
        "print_env_info(continuous_actions=False)\n",
        "print()\n",
        "print_env_info(continuous_actions=True)"
      ]
    },
    {
      "cell_type": "markdown",
      "id": "2a0adb1a-678e-4084-9a8b-652c6b8605b8",
      "metadata": {
        "id": "2a0adb1a-678e-4084-9a8b-652c6b8605b8"
      },
      "source": [
        "### Observation Spaces\n",
        "\n",
        "The `Box(low, high, shape, dtype)` space contains any vector of shape `shape` that contains only values within the closed interval between `low` and `high` represented as type `dtype`. Both the speaker and the listener receive one dimensional `Box` observations of different sizes with any 32-bit floating point value. Note that the observation spaces remain the same regardless of the action space type (continuous / discrete). We can get the next acting agent's observation using the environment's `last` function, which returns the previous observation, reward, \"done\" flag, info dictionary. The current acting agent is chosen sequentially according to the agents' order in the `agents` attribute. The next agent is chosen when calling the `step` function which is sets the agent's action.\n",
        "\n",
        "#### Speaker\n",
        "The speaker observation is of type `Box(-inf, inf, (3,), float32)`, which is any vector of 3 dimensions. The values represent the RGB color of the goal to which the listener must navigate to maximize rewards.\n",
        "\n",
        "#### Listener\n",
        "The speaker observation is of type `Box(-inf, inf, (11,), float32)`, which is any vector of 11 dimensions. The first two values are the agent's velocity in 2D space. The next six values are the red, blue, and green landmarks' positions relative to the listener. The last three values correspond to communication received from the speaker. Below is a precise ordering of the values in the observation vector:\n",
        "1. listener agent velocity X\n",
        "2. listener agent velocity Y\n",
        "3. red landmark X pos - listener agent X pos\n",
        "4. red landmark Y pos - listener agent Y pos\n",
        "5. blue landmark X pos - listener agent X pos\n",
        "6. blue landmark Y pos - listener agent Y pos\n",
        "7. green landmark X pos - listener agent X pos\n",
        "8. green landmark Y pos - listener agent Y pos\n",
        "9. communication channel 1\n",
        "10. communication channel 2\n",
        "11. communication channel 3\n",
        "\n",
        "Note that the communication observation (values 9, 10, and 11) will always be 0 in the first round since no communication has yet been received from the speaker"
      ]
    },
    {
      "cell_type": "code",
      "execution_count": 3,
      "id": "c5cd7be0-def6-4917-ace2-3433e6d32aaa",
      "metadata": {
        "colab": {
          "base_uri": "https://localhost:8080/"
        },
        "id": "c5cd7be0-def6-4917-ace2-3433e6d32aaa",
        "outputId": "e7856ded-5f2a-412a-8ac5-4074c8c8004a"
      },
      "outputs": [
        {
          "output_type": "stream",
          "name": "stdout",
          "text": [
            "agnet: speaker_0\n",
            "observation: [0.15 0.65 0.15]\n",
            "\n",
            "agnet: listener_0\n",
            "observation: [ 0.          0.         -0.18649414 -0.85475296 -1.3021295  -0.41527402\n",
            " -0.98082167 -0.03875286  0.          0.          0.        ]\n",
            "\n",
            "agnet: speaker_0\n",
            "observation: [0.15 0.65 0.15]\n",
            "\n",
            "agnet: listener_0\n",
            "observation: [-0.5         0.         -0.13649414 -0.85475296 -1.2521294  -0.41527402\n",
            " -0.93082166 -0.03875286  1.          0.          0.        ]\n",
            "\n"
          ]
        }
      ],
      "source": [
        "env = simple_speaker_listener_v3.env()\n",
        "env.reset()  # reset the environment, selected agent is \"speaker_0\"\n",
        "\n",
        "# run twice to show the chnage in the communication vector\n",
        "for i in range(2):\n",
        "    #speaker obs\n",
        "    obs, _, _, _ = env.last()  # get speaker observation vector\n",
        "    print(f'agnet: {env.agents[0]}')\n",
        "    print(f'observation: {obs}')\n",
        "    print()\n",
        "    env.step(0)  # send discrete message \"A\". next agent is selected (listener_0)\n",
        "\n",
        "    obs, _, _, _ = env.last()  # get listener observation vector\n",
        "    print(f'agnet: {env.agents[1]}')\n",
        "    print(f'observation: {obs}')\n",
        "    print()\n",
        "    env.step(1)  # perform the \"go left\" action"
      ]
    },
    {
      "cell_type": "markdown",
      "id": "964817d1-264a-4c0f-b571-1a8f3dd65653",
      "metadata": {
        "id": "964817d1-264a-4c0f-b571-1a8f3dd65653"
      },
      "source": [
        "### Action Spaces\n",
        "\n",
        "The action agents' action spaces can be either discrete or continuous, depending on the `continuous_actions` parameter. If discrete, the action spaces are of type `Discrete(n)`, which contains the integer values 0 to n-1. Otherwise, the action spaces are of type `Box` (like the observation spaces), but with values constrained between 0 and 1. Actions are given sequentially by agent order according the `agents` attribute by using the `step` function. The given action must be one from the corresponding agent's action space.\n",
        "\n",
        "#### Discrete Actions\n",
        "\n",
        "##### Speaker\n",
        "The action space is `Discrete(3)` containing the values 0, 1, 2. Each value corresponds to a possible message. Value 0 corresponds to message A, which can be seen in the communication vector of the listener's observation as \\[1, 0, 0\\]. Similarly, values 1 and 2 correspond to messages B and C and appear as \\[0, 1, 0\\] and \\[0, 0, 1\\] in the listener's observation respectively.\n",
        "\n",
        "##### Listener\n",
        "Discrete:  \n",
        "The action space is `Discrete(5)` containing the values 0 - 4. Each value applies force on the agent, increasing its velocity to some direction. The velocity will slowly deteriorate until the agent stops, unless constant force is applied. The values' meanings are as follows:\n",
        "* 0 - do nothing\n",
        "* 1 - push left (add velocity in negative x-axis direction)\n",
        "* 2 - push right (add velocity in positive x-axis direction)\n",
        "* 3 - push down (add velocity in negative y-axis direction)\n",
        "* 4 - push up (add velocity in positive t-axis direction)"
      ]
    },
    {
      "cell_type": "code",
      "execution_count": 4,
      "id": "37f69779-5ff1-4f1e-96d6-c1851dcc3fd4",
      "metadata": {
        "colab": {
          "base_uri": "https://localhost:8080/"
        },
        "id": "37f69779-5ff1-4f1e-96d6-c1851dcc3fd4",
        "outputId": "09a96d99-9345-4141-f199-8901d7dae7df"
      },
      "outputs": [
        {
          "output_type": "stream",
          "name": "stdout",
          "text": [
            "agnet: speaker_0\n",
            "observation: [0.65 0.15 0.15]\n",
            "\n",
            "agnet: listener_0\n",
            "observation: [ 0.          0.         -0.28538448 -0.47821474  0.6706189   0.9087213\n",
            "  0.55868334 -0.24485826  0.          0.          0.        ]\n",
            "\n",
            "agnet: speaker_0\n",
            "observation: [0.65 0.15 0.15]\n",
            "\n",
            "agnet: listener_0\n",
            "observation: [-0.5         0.         -0.23538446 -0.47821474  0.7206189   0.9087213\n",
            "  0.60868335 -0.24485826  1.          0.          0.        ]\n",
            "\n"
          ]
        },
        {
          "output_type": "stream",
          "name": "stderr",
          "text": [
            "/usr/local/lib/python3.10/dist-packages/ipykernel/ipkernel.py:283: DeprecationWarning: `should_run_async` will not call `transform_cell` automatically in the future. Please pass the result to `transformed_cell` argument and any exception that happen during thetransform in `preprocessing_exc_tuple` in IPython 7.17 and above.\n",
            "  and should_run_async(code)\n"
          ]
        }
      ],
      "source": [
        "# speaker action-to-index dict\n",
        "SPEAKER_DISCRETE_ACTIONS = {\n",
        "    'A': 0,\n",
        "    'B': 1,\n",
        "    'C': 2\n",
        "}\n",
        "\n",
        "# listener action-to-index dict\n",
        "LISTENER_DISCRETE_ACTIONS = {\n",
        "    'nothing': 0,\n",
        "    'left':    1,\n",
        "    'right':   2,\n",
        "    'down':    3,\n",
        "    'up':      4\n",
        "}\n",
        "\n",
        "env = simple_speaker_listener_v3.env(continuous_actions=False)  # discrete actions env\n",
        "env.reset()\n",
        "\n",
        "# CHANGE ACTION ACCORDING TO THE SPEADER TABLE AND SEE THE LISTENER'S COMMUNICATION OBSERVATIONS CHANGE\n",
        "chosen_speaker_action = SPEAKER_DISCRETE_ACTIONS['A']\n",
        "\n",
        "# CHANGE ACTION ACCORDING TO THE LISTENER TABLE AND SEE THE VELOCITY OBSERVATIONS CHANGE\n",
        "chosen_listener_action = LISTENER_DISCRETE_ACTIONS['left']\n",
        "\n",
        "# run twice to show the chnage in the communication vector\n",
        "for i in range(2):\n",
        "    #speaker action\n",
        "    obs, _, _, _ = env.last()\n",
        "    print(f'agnet: {env.agents[0]}')\n",
        "    print(f'observation: {obs}')\n",
        "    print()\n",
        "    env.step(chosen_speaker_action)\n",
        "\n",
        "    # listener action\n",
        "    obs, _, _, _ = env.last()\n",
        "    print(f'agnet: {env.agents[1]}')\n",
        "    print(f'observation: {obs}')\n",
        "    print()\n",
        "    env.step(chosen_listener_action)"
      ]
    },
    {
      "cell_type": "markdown",
      "id": "2f9486a6-7673-46fc-98a6-be75c04bcd00",
      "metadata": {
        "id": "2f9486a6-7673-46fc-98a6-be75c04bcd00"
      },
      "source": [
        "#### Continuous Actions\n",
        "\n",
        "##### Speaker\n",
        "The action space is `Box(0.0, 1.0, (3,), float32)` containing 3D vectors of values in \\[0, 1\\]. The values have no specific meaning, and are given, as is, as the listener observation's communication vector.\n",
        "\n",
        "##### Listener\n",
        "The action space is `Box(0.0, 1.0, (5,), float32)` containing 3D vectors of values in \\[0, 1\\]. Each value describes the amount of force applied in each direction (left, right, up, and down). Below is a precise ordering of the values in the action vector:\n",
        "1. No force (useful for some implementations)\n",
        "2. Force right (positive in x-axis)\n",
        "3. Force left (negative in x-axis)\n",
        "4. Force up (positive in y-axis)\n",
        "5. Force down (negative in y-axis)"
      ]
    },
    {
      "cell_type": "code",
      "execution_count": 5,
      "id": "6337af45-51fe-437d-8cac-323a7106997c",
      "metadata": {
        "id": "6337af45-51fe-437d-8cac-323a7106997c",
        "colab": {
          "base_uri": "https://localhost:8080/"
        },
        "outputId": "0383bb9d-b0a6-4aeb-9246-2a6147f089e9"
      },
      "outputs": [
        {
          "output_type": "stream",
          "name": "stdout",
          "text": [
            "agnet: speaker_0\n",
            "observation: [0.65 0.15 0.15]\n",
            "\n",
            "agnet: listener_0\n",
            "observation: [ 0.          0.         -1.3697972  -0.22333539 -1.7918829  -1.2609624\n",
            " -0.34874532 -1.54629     0.          0.          0.        ]\n",
            "\n",
            "agnet: speaker_0\n",
            "observation: [0.65 0.15 0.15]\n",
            "\n",
            "agnet: listener_0\n",
            "observation: [ 0.         -0.09999999 -1.3697972  -0.2133354  -1.7918829  -1.2509624\n",
            " -0.34874532 -1.53629     0.5         1.          0.2       ]\n",
            "\n"
          ]
        }
      ],
      "source": [
        "# speaker continuous action function\n",
        "def speaker_continuous_action(v1, v2, v3):\n",
        "    return np.array([v1, v2, v3], dtype=np.float32)\n",
        "\n",
        "# listener continuous action function\n",
        "def listener_continuous_action(right, left, up, down):\n",
        "    return np.array([0, right, left, up, down], dtype=np.float32)\n",
        "\n",
        "env = simple_speaker_listener_v3.env(continuous_actions=True)  # continuous actions env\n",
        "env.reset()\n",
        "\n",
        "# CHANGE ACTION AS NEEDED\n",
        "chosen_speaker_action = speaker_continuous_action(v1=0.5, v2=1.0, v3=0.2)\n",
        "\n",
        "# CHANGE ACTION AS NEEDED\n",
        "chosen_listener_action = listener_continuous_action(right=0.8, left=0.8, up=0.5, down=0.7)\n",
        "\n",
        "# run twice to show the chnage in the communication vector\n",
        "for i in range(2):\n",
        "    #speaker action\n",
        "    obs, _, _, _ = env.last()\n",
        "    print(f'agnet: {env.agents[0]}')\n",
        "    print(f'observation: {obs}')\n",
        "    print()\n",
        "    env.step(chosen_speaker_action)\n",
        "\n",
        "    # listener action\n",
        "    obs, _, _, _ = env.last()\n",
        "    print(f'agnet: {env.agents[1]}')\n",
        "    print(f'observation: {obs}')\n",
        "    print()\n",
        "    env.step(chosen_listener_action)"
      ]
    },
    {
      "cell_type": "markdown",
      "id": "eae4ed6b-ff44-4f51-b4a0-6a9283ab965a",
      "metadata": {
        "id": "eae4ed6b-ff44-4f51-b4a0-6a9283ab965a"
      },
      "source": [
        "## Running the Environment\n",
        "\n",
        "We can run a game simulation by resetting an environment and playing out the episode. This is done by iterating over the agents repeatedly, providing an action for each agent at every iteration, until we wish to stop or until the `max_cycles` limit has been reached. In the example below, we define a policy function to generate random actions within each agent's action space.\n",
        "\n",
        "### Policies\n",
        "\n",
        "We implement a policy as a function that, given the current observation, returns an action to perform. Below we define a policy class that supports both `Discrete` and `Box` type action spaces that completely ignores the observation and samples a random valid action from the given action space."
      ]
    },
    {
      "cell_type": "code",
      "execution_count": 6,
      "id": "77711b6a-8570-46e5-bc5e-88edac9aa21d",
      "metadata": {
        "id": "77711b6a-8570-46e5-bc5e-88edac9aa21d"
      },
      "outputs": [],
      "source": [
        "from gym.spaces import Discrete, Box\n",
        "\n",
        "# define a random policy for continuous action agents.\n",
        "# the policy returns a numpy array of the action space shape with random values between 0 and 1.\n",
        "class RandomPolicy:\n",
        "    def __init__(self, action_space):\n",
        "        # choose a policy function for this action space type\n",
        "        if isinstance(action_space, Discrete):  # discrete action policy\n",
        "            self.policy_fn = self.__discrete_policy\n",
        "        elif isinstance(action_space, Box):  # continuous action policy\n",
        "            self.policy_fn = self.__continuous_policy\n",
        "        else:  # other types are not supported\n",
        "            raise TypeError(f'action_space must be of type Box or Discrete. got {type(action_space).__name__}')\n",
        "\n",
        "        self.action_space = action_space\n",
        "\n",
        "    def __call__(self, observation):\n",
        "        # we completely ignore the observation and create a random valid action.\n",
        "        return self.policy_fn()\n",
        "\n",
        "    def __discrete_policy(self):\n",
        "        # a random number within the discrete action range\n",
        "        return np.random.randint(self.action_space.n)\n",
        "\n",
        "    def __continuous_policy(self):\n",
        "        # a random vector within the continuous range of the appropriate dimensionality\n",
        "        # convert to the right dtype to avoid clipping warnings (e.g. float64 to float32)\n",
        "        return np.random.uniform(self.action_space.low, self.action_space.high, self.action_space.shape).astype(self.action_space.dtype)"
      ]
    },
    {
      "cell_type": "markdown",
      "id": "eeed1034-f3a8-45db-ae98-e023993fb294",
      "metadata": {
        "id": "eeed1034-f3a8-45db-ae98-e023993fb294"
      },
      "source": [
        "### Simulation\n",
        "\n",
        "We now define an environment with either a discrete or continuous action space that limits to a small number of steps, for the purposes of this demonstration, using the `max_cycles` parameter. We then create a policy for each agent and start iterating over them repeatedly. For this, the environment implements the `agent_iter` function. This function simply iterates over the list of agents `max_cycles` times, allowing us to perform `max_cycles` steps for each agent. An added bonus of using `agent_iter` is that it raises an error if there was no `step` call within the iteration (which can prevent horrible bugs). After the episode has ended, the agents' \"done\" status will be true, and . In this case the episode is complete and the environment must be reset if we wish to run it again."
      ]
    },
    {
      "cell_type": "code",
      "execution_count": 7,
      "id": "2b9ff00b-0939-47f9-acf8-eb3a7de90e82",
      "metadata": {
        "id": "2b9ff00b-0939-47f9-acf8-eb3a7de90e82",
        "colab": {
          "base_uri": "https://localhost:8080/"
        },
        "outputId": "2f45e2dd-adc1-4f90-d6f7-fec23c675070"
      },
      "outputs": [
        {
          "output_type": "stream",
          "name": "stdout",
          "text": [
            "speaker_0 reward:      0.0\n",
            "speaker_0 observation: [0.15 0.15 0.65]\n",
            "speaker_0 action:      [0.10228956 0.6723987  0.9437338 ]\n",
            "\n",
            "listener_0 reward:      0.0\n",
            "listener_0 observation: [ 0.          0.         -0.4698474  -0.6304672   0.3519065   1.2415909\n",
            "  0.7977869  -0.22452933  0.          0.          0.        ]\n",
            "listener_0 action:      [0.6126801  0.82305056 0.4773474  0.17823249 0.69556123]\n",
            "\n",
            "speaker_0 reward:      -0.6486499124982437\n",
            "speaker_0 observation: [0.15 0.15 0.65]\n",
            "speaker_0 action:      [0.43938822 0.24628153 0.97275513]\n",
            "\n",
            "listener_0 reward:      -0.6486499124982437\n",
            "listener_0 observation: [ 0.17285158 -0.25866437 -0.48713255 -0.6046007   0.33462137  1.2674572\n",
            "  0.7805017  -0.19866288  0.10228956  0.6723987   0.9437338 ]\n",
            "listener_0 action:      [0.7916507  0.05185711 0.9092718  0.46852028 0.49782494]\n",
            "\n",
            "speaker_0 reward:      -0.6883741779209858\n",
            "speaker_0 observation: [0.15 0.15 0.65]\n",
            "speaker_0 action:      [0.5780953  0.36235285 0.93829507]\n",
            "\n",
            "listener_0 reward:      -0.6883741779209858\n",
            "listener_0 observation: [-0.29906866 -0.2086506  -0.45722568 -0.5837357   0.36452824  1.2883223\n",
            "  0.8104086  -0.17779782  0.43938822  0.24628153  0.97275513]\n",
            "listener_0 action:      [0.08476698 0.6903645  0.56498146 0.62952703 0.7441163 ]\n",
            "\n",
            "speaker_0 reward:      -0.7076843930937226\n",
            "speaker_0 observation: [0.15 0.15 0.65]\n",
            "speaker_0 action:      [0.7019861  0.18359585 0.5464561 ]\n",
            "\n",
            "listener_0 reward:      -0.7076843930937226\n",
            "listener_0 observation: [-0.16160998 -0.2137826  -0.4410647  -0.5623574   0.38068923  1.3097006\n",
            "  0.8265696  -0.15641956  0.5780953   0.36235285  0.93829507]\n",
            "listener_0 action:      [0.24555336 0.7736938  0.7243851  0.44466415 0.27972773]\n",
            "\n",
            "speaker_0 reward:      -0.7213637904348856\n",
            "speaker_0 observation: [0.15 0.15 0.65]\n",
            "speaker_0 action:      [0.47046876 0.11787501 0.75889367]\n",
            "\n",
            "listener_0 reward:      -0.7213637904348856\n",
            "listener_0 observation: [-0.09655312 -0.07786873 -0.4314094  -0.55457056  0.39034453  1.3174875\n",
            "  0.8362249  -0.14863269  0.7019861   0.18359585  0.5464561 ]\n",
            "listener_0 action:      [0.34956488 0.45175713 0.7635148  0.4814054  0.6277111 ]\n",
            "\n"
          ]
        }
      ],
      "source": [
        "# CHOOSE MAX CYCLES AND DISCRETE OR CONTINUOUS ACTION SPACE\n",
        "env = simple_speaker_listener_v3.env(max_cycles=5, continuous_actions=True)\n",
        "env.reset()\n",
        "\n",
        "# create a random policy for both agents' action spaces.\n",
        "policies = {\n",
        "    env.agents[0]: RandomPolicy(env.action_space(env.agents[0])),\n",
        "    env.agents[1]: RandomPolicy(env.action_space(env.agents[1]))\n",
        "}\n",
        "\n",
        "# iterate over agents until the episode is complete\n",
        "for agent in env.agent_iter():\n",
        "    observation, reward, done, info = env.last()\n",
        "\n",
        "    # if done, the episode is complete. no more actions can be taken\n",
        "    if done:\n",
        "        break\n",
        "\n",
        "    # choose an action and execute\n",
        "    action = policies[agent](observation)\n",
        "    env.step(action)\n",
        "\n",
        "    # log everything\n",
        "    print(f'{agent} reward:      {reward}')\n",
        "    print(f'{agent} observation: {observation}')\n",
        "    print(f'{agent} action:      {action}')\n",
        "    print()"
      ]
    },
    {
      "cell_type": "markdown",
      "id": "0f1adc9c-a532-4fc1-9f01-61c912cda81a",
      "metadata": {
        "tags": [],
        "id": "0f1adc9c-a532-4fc1-9f01-61c912cda81a"
      },
      "source": [
        "### Rendering\n",
        "\n",
        "We can render the environment to see visualize the observation space. We must call the `render` function at every iteration to create and update a rendering in a separate window. Below we show a 100-step episode controlled by our random policies."
      ]
    },
    {
      "cell_type": "code",
      "execution_count": 8,
      "id": "699fcf4a-9bbe-4c76-b045-e85228919a55",
      "metadata": {
        "id": "699fcf4a-9bbe-4c76-b045-e85228919a55",
        "colab": {
          "base_uri": "https://localhost:8080/",
          "height": 356
        },
        "outputId": "04c55f2b-ac44-4339-ccbd-ffb3c6260be1"
      },
      "outputs": [
        {
          "output_type": "error",
          "ename": "NoSuchDisplayException",
          "evalue": "Cannot connect to \"None\"",
          "traceback": [
            "\u001b[0;31m---------------------------------------------------------------------------\u001b[0m",
            "\u001b[0;31mNoSuchDisplayException\u001b[0m                    Traceback (most recent call last)",
            "\u001b[0;32m<ipython-input-8-ee5394e9542e>\u001b[0m in \u001b[0;36m<cell line: 12>\u001b[0;34m()\u001b[0m\n\u001b[1;32m     22\u001b[0m \u001b[0;34m\u001b[0m\u001b[0m\n\u001b[1;32m     23\u001b[0m     \u001b[0;31m# render the environment\u001b[0m\u001b[0;34m\u001b[0m\u001b[0;34m\u001b[0m\u001b[0m\n\u001b[0;32m---> 24\u001b[0;31m     \u001b[0menv\u001b[0m\u001b[0;34m.\u001b[0m\u001b[0mrender\u001b[0m\u001b[0;34m(\u001b[0m\u001b[0;34m'human'\u001b[0m\u001b[0;34m)\u001b[0m\u001b[0;34m\u001b[0m\u001b[0;34m\u001b[0m\u001b[0m\n\u001b[0m\u001b[1;32m     25\u001b[0m \u001b[0;34m\u001b[0m\u001b[0m\n\u001b[1;32m     26\u001b[0m \u001b[0;31m# This line is SUPPOSED to close the rendering window, but it does not.\u001b[0m\u001b[0;34m\u001b[0m\u001b[0;34m\u001b[0m\u001b[0m\n",
            "\u001b[0;32m/usr/local/lib/python3.10/dist-packages/pettingzoo/utils/wrappers/order_enforcing.py\u001b[0m in \u001b[0;36mrender\u001b[0;34m(self, mode)\u001b[0m\n\u001b[1;32m     49\u001b[0m         \u001b[0;32massert\u001b[0m \u001b[0mmode\u001b[0m \u001b[0;32min\u001b[0m \u001b[0mself\u001b[0m\u001b[0;34m.\u001b[0m\u001b[0mmetadata\u001b[0m\u001b[0;34m[\u001b[0m\u001b[0;34m'render.modes'\u001b[0m\u001b[0;34m]\u001b[0m\u001b[0;34m\u001b[0m\u001b[0;34m\u001b[0m\u001b[0m\n\u001b[1;32m     50\u001b[0m         \u001b[0mself\u001b[0m\u001b[0;34m.\u001b[0m\u001b[0m_has_rendered\u001b[0m \u001b[0;34m=\u001b[0m \u001b[0;32mTrue\u001b[0m\u001b[0;34m\u001b[0m\u001b[0;34m\u001b[0m\u001b[0m\n\u001b[0;32m---> 51\u001b[0;31m         \u001b[0;32mreturn\u001b[0m \u001b[0msuper\u001b[0m\u001b[0;34m(\u001b[0m\u001b[0;34m)\u001b[0m\u001b[0;34m.\u001b[0m\u001b[0mrender\u001b[0m\u001b[0;34m(\u001b[0m\u001b[0mmode\u001b[0m\u001b[0;34m)\u001b[0m\u001b[0;34m\u001b[0m\u001b[0;34m\u001b[0m\u001b[0m\n\u001b[0m\u001b[1;32m     52\u001b[0m \u001b[0;34m\u001b[0m\u001b[0m\n\u001b[1;32m     53\u001b[0m     \u001b[0;32mdef\u001b[0m \u001b[0mstep\u001b[0m\u001b[0;34m(\u001b[0m\u001b[0mself\u001b[0m\u001b[0;34m,\u001b[0m \u001b[0maction\u001b[0m\u001b[0;34m)\u001b[0m\u001b[0;34m:\u001b[0m\u001b[0;34m\u001b[0m\u001b[0;34m\u001b[0m\u001b[0m\n",
            "\u001b[0;32m/usr/local/lib/python3.10/dist-packages/pettingzoo/utils/wrappers/base.py\u001b[0m in \u001b[0;36mrender\u001b[0;34m(self, mode)\u001b[0m\n\u001b[1;32m     73\u001b[0m \u001b[0;34m\u001b[0m\u001b[0m\n\u001b[1;32m     74\u001b[0m     \u001b[0;32mdef\u001b[0m \u001b[0mrender\u001b[0m\u001b[0;34m(\u001b[0m\u001b[0mself\u001b[0m\u001b[0;34m,\u001b[0m \u001b[0mmode\u001b[0m\u001b[0;34m=\u001b[0m\u001b[0;34m'human'\u001b[0m\u001b[0;34m)\u001b[0m\u001b[0;34m:\u001b[0m\u001b[0;34m\u001b[0m\u001b[0;34m\u001b[0m\u001b[0m\n\u001b[0;32m---> 75\u001b[0;31m         \u001b[0;32mreturn\u001b[0m \u001b[0mself\u001b[0m\u001b[0;34m.\u001b[0m\u001b[0menv\u001b[0m\u001b[0;34m.\u001b[0m\u001b[0mrender\u001b[0m\u001b[0;34m(\u001b[0m\u001b[0mmode\u001b[0m\u001b[0;34m)\u001b[0m\u001b[0;34m\u001b[0m\u001b[0;34m\u001b[0m\u001b[0m\n\u001b[0m\u001b[1;32m     76\u001b[0m \u001b[0;34m\u001b[0m\u001b[0m\n\u001b[1;32m     77\u001b[0m     \u001b[0;32mdef\u001b[0m \u001b[0mreset\u001b[0m\u001b[0;34m(\u001b[0m\u001b[0mself\u001b[0m\u001b[0;34m)\u001b[0m\u001b[0;34m:\u001b[0m\u001b[0;34m\u001b[0m\u001b[0;34m\u001b[0m\u001b[0m\n",
            "\u001b[0;32m/usr/local/lib/python3.10/dist-packages/pettingzoo/utils/wrappers/base.py\u001b[0m in \u001b[0;36mrender\u001b[0;34m(self, mode)\u001b[0m\n\u001b[1;32m     73\u001b[0m \u001b[0;34m\u001b[0m\u001b[0m\n\u001b[1;32m     74\u001b[0m     \u001b[0;32mdef\u001b[0m \u001b[0mrender\u001b[0m\u001b[0;34m(\u001b[0m\u001b[0mself\u001b[0m\u001b[0;34m,\u001b[0m \u001b[0mmode\u001b[0m\u001b[0;34m=\u001b[0m\u001b[0;34m'human'\u001b[0m\u001b[0;34m)\u001b[0m\u001b[0;34m:\u001b[0m\u001b[0;34m\u001b[0m\u001b[0;34m\u001b[0m\u001b[0m\n\u001b[0;32m---> 75\u001b[0;31m         \u001b[0;32mreturn\u001b[0m \u001b[0mself\u001b[0m\u001b[0;34m.\u001b[0m\u001b[0menv\u001b[0m\u001b[0;34m.\u001b[0m\u001b[0mrender\u001b[0m\u001b[0;34m(\u001b[0m\u001b[0mmode\u001b[0m\u001b[0;34m)\u001b[0m\u001b[0;34m\u001b[0m\u001b[0;34m\u001b[0m\u001b[0m\n\u001b[0m\u001b[1;32m     76\u001b[0m \u001b[0;34m\u001b[0m\u001b[0m\n\u001b[1;32m     77\u001b[0m     \u001b[0;32mdef\u001b[0m \u001b[0mreset\u001b[0m\u001b[0;34m(\u001b[0m\u001b[0mself\u001b[0m\u001b[0;34m)\u001b[0m\u001b[0;34m:\u001b[0m\u001b[0;34m\u001b[0m\u001b[0;34m\u001b[0m\u001b[0m\n",
            "\u001b[0;32m/usr/local/lib/python3.10/dist-packages/pettingzoo/mpe/_mpe_utils/simple_env.py\u001b[0m in \u001b[0;36mrender\u001b[0;34m(self, mode)\u001b[0m\n\u001b[1;32m    200\u001b[0m \u001b[0;34m\u001b[0m\u001b[0m\n\u001b[1;32m    201\u001b[0m     \u001b[0;32mdef\u001b[0m \u001b[0mrender\u001b[0m\u001b[0;34m(\u001b[0m\u001b[0mself\u001b[0m\u001b[0;34m,\u001b[0m \u001b[0mmode\u001b[0m\u001b[0;34m=\u001b[0m\u001b[0;34m'human'\u001b[0m\u001b[0;34m)\u001b[0m\u001b[0;34m:\u001b[0m\u001b[0;34m\u001b[0m\u001b[0;34m\u001b[0m\u001b[0m\n\u001b[0;32m--> 202\u001b[0;31m         \u001b[0;32mfrom\u001b[0m \u001b[0;34m.\u001b[0m \u001b[0;32mimport\u001b[0m \u001b[0mrendering\u001b[0m\u001b[0;34m\u001b[0m\u001b[0;34m\u001b[0m\u001b[0m\n\u001b[0m\u001b[1;32m    203\u001b[0m \u001b[0;34m\u001b[0m\u001b[0m\n\u001b[1;32m    204\u001b[0m         \u001b[0;32mif\u001b[0m \u001b[0mself\u001b[0m\u001b[0;34m.\u001b[0m\u001b[0mviewer\u001b[0m \u001b[0;32mis\u001b[0m \u001b[0;32mNone\u001b[0m\u001b[0;34m:\u001b[0m\u001b[0;34m\u001b[0m\u001b[0;34m\u001b[0m\u001b[0m\n",
            "\u001b[0;32m/usr/local/lib/python3.10/dist-packages/pettingzoo/mpe/_mpe_utils/rendering.py\u001b[0m in \u001b[0;36m<module>\u001b[0;34m\u001b[0m\n\u001b[1;32m      8\u001b[0m \u001b[0;32mimport\u001b[0m \u001b[0mnumpy\u001b[0m \u001b[0;32mas\u001b[0m \u001b[0mnp\u001b[0m\u001b[0;34m\u001b[0m\u001b[0;34m\u001b[0m\u001b[0m\n\u001b[1;32m      9\u001b[0m \u001b[0;32mfrom\u001b[0m \u001b[0mgym\u001b[0m \u001b[0;32mimport\u001b[0m \u001b[0merror\u001b[0m\u001b[0;34m\u001b[0m\u001b[0;34m\u001b[0m\u001b[0m\n\u001b[0;32m---> 10\u001b[0;31m from pyglet.gl import (GL_BLEND, GL_LINE_LOOP, GL_LINE_SMOOTH, GL_LINE_SMOOTH_HINT, GL_LINE_STIPPLE,\n\u001b[0m\u001b[1;32m     11\u001b[0m                        \u001b[0mGL_LINE_STRIP\u001b[0m\u001b[0;34m,\u001b[0m \u001b[0mGL_LINES\u001b[0m\u001b[0;34m,\u001b[0m \u001b[0mGL_NICEST\u001b[0m\u001b[0;34m,\u001b[0m \u001b[0mGL_ONE_MINUS_SRC_ALPHA\u001b[0m\u001b[0;34m,\u001b[0m \u001b[0mGL_POINTS\u001b[0m\u001b[0;34m,\u001b[0m\u001b[0;34m\u001b[0m\u001b[0;34m\u001b[0m\u001b[0m\n\u001b[1;32m     12\u001b[0m                        GL_POLYGON, GL_QUADS, GL_SRC_ALPHA, GL_TRIANGLES)\n",
            "\u001b[0;32m/usr/local/lib/python3.10/dist-packages/pyglet/gl/__init__.py\u001b[0m in \u001b[0;36m<module>\u001b[0;34m\u001b[0m\n\u001b[1;32m    189\u001b[0m     \u001b[0;31m# trickery is for circular import\u001b[0m\u001b[0;34m\u001b[0m\u001b[0;34m\u001b[0m\u001b[0m\n\u001b[1;32m    190\u001b[0m     \u001b[0m_pyglet\u001b[0m\u001b[0;34m.\u001b[0m\u001b[0mgl\u001b[0m \u001b[0;34m=\u001b[0m \u001b[0m_sys\u001b[0m\u001b[0;34m.\u001b[0m\u001b[0mmodules\u001b[0m\u001b[0;34m[\u001b[0m\u001b[0m__name__\u001b[0m\u001b[0;34m]\u001b[0m\u001b[0;34m\u001b[0m\u001b[0;34m\u001b[0m\u001b[0m\n\u001b[0;32m--> 191\u001b[0;31m     \u001b[0;32mimport\u001b[0m \u001b[0mpyglet\u001b[0m\u001b[0;34m.\u001b[0m\u001b[0mwindow\u001b[0m\u001b[0;34m\u001b[0m\u001b[0;34m\u001b[0m\u001b[0m\n\u001b[0m",
            "\u001b[0;32m/usr/local/lib/python3.10/dist-packages/pyglet/window/__init__.py\u001b[0m in \u001b[0;36m<module>\u001b[0;34m\u001b[0m\n\u001b[1;32m   1928\u001b[0m \u001b[0;32mif\u001b[0m \u001b[0;32mnot\u001b[0m \u001b[0m_is_pyglet_doc_run\u001b[0m\u001b[0;34m:\u001b[0m\u001b[0;34m\u001b[0m\u001b[0;34m\u001b[0m\u001b[0m\n\u001b[1;32m   1929\u001b[0m     \u001b[0mpyglet\u001b[0m\u001b[0;34m.\u001b[0m\u001b[0mwindow\u001b[0m \u001b[0;34m=\u001b[0m \u001b[0msys\u001b[0m\u001b[0;34m.\u001b[0m\u001b[0mmodules\u001b[0m\u001b[0;34m[\u001b[0m\u001b[0m__name__\u001b[0m\u001b[0;34m]\u001b[0m\u001b[0;34m\u001b[0m\u001b[0;34m\u001b[0m\u001b[0m\n\u001b[0;32m-> 1930\u001b[0;31m     \u001b[0mgl\u001b[0m\u001b[0;34m.\u001b[0m\u001b[0m_create_shadow_window\u001b[0m\u001b[0;34m(\u001b[0m\u001b[0;34m)\u001b[0m\u001b[0;34m\u001b[0m\u001b[0;34m\u001b[0m\u001b[0m\n\u001b[0m",
            "\u001b[0;32m/usr/local/lib/python3.10/dist-packages/pyglet/gl/__init__.py\u001b[0m in \u001b[0;36m_create_shadow_window\u001b[0;34m()\u001b[0m\n\u001b[1;32m    163\u001b[0m             \u001b[0;32mpass\u001b[0m\u001b[0;34m\u001b[0m\u001b[0;34m\u001b[0m\u001b[0m\n\u001b[1;32m    164\u001b[0m \u001b[0;34m\u001b[0m\u001b[0m\n\u001b[0;32m--> 165\u001b[0;31m     \u001b[0m_shadow_window\u001b[0m \u001b[0;34m=\u001b[0m \u001b[0mShadowWindow\u001b[0m\u001b[0;34m(\u001b[0m\u001b[0;34m)\u001b[0m\u001b[0;34m\u001b[0m\u001b[0;34m\u001b[0m\u001b[0m\n\u001b[0m\u001b[1;32m    166\u001b[0m     \u001b[0m_shadow_window\u001b[0m\u001b[0;34m.\u001b[0m\u001b[0mswitch_to\u001b[0m\u001b[0;34m(\u001b[0m\u001b[0;34m)\u001b[0m\u001b[0;34m\u001b[0m\u001b[0;34m\u001b[0m\u001b[0m\n\u001b[1;32m    167\u001b[0m \u001b[0;34m\u001b[0m\u001b[0m\n",
            "\u001b[0;32m/usr/local/lib/python3.10/dist-packages/pyglet/gl/__init__.py\u001b[0m in \u001b[0;36m__init__\u001b[0;34m(self)\u001b[0m\n\u001b[1;32m    157\u001b[0m     \u001b[0;32mclass\u001b[0m \u001b[0mShadowWindow\u001b[0m\u001b[0;34m(\u001b[0m\u001b[0mWindow\u001b[0m\u001b[0;34m)\u001b[0m\u001b[0;34m:\u001b[0m\u001b[0;34m\u001b[0m\u001b[0;34m\u001b[0m\u001b[0m\n\u001b[1;32m    158\u001b[0m         \u001b[0;32mdef\u001b[0m \u001b[0m__init__\u001b[0m\u001b[0;34m(\u001b[0m\u001b[0mself\u001b[0m\u001b[0;34m)\u001b[0m\u001b[0;34m:\u001b[0m\u001b[0;34m\u001b[0m\u001b[0;34m\u001b[0m\u001b[0m\n\u001b[0;32m--> 159\u001b[0;31m             \u001b[0msuper\u001b[0m\u001b[0;34m(\u001b[0m\u001b[0;34m)\u001b[0m\u001b[0;34m.\u001b[0m\u001b[0m__init__\u001b[0m\u001b[0;34m(\u001b[0m\u001b[0mwidth\u001b[0m\u001b[0;34m=\u001b[0m\u001b[0;36m1\u001b[0m\u001b[0;34m,\u001b[0m \u001b[0mheight\u001b[0m\u001b[0;34m=\u001b[0m\u001b[0;36m1\u001b[0m\u001b[0;34m,\u001b[0m \u001b[0mvisible\u001b[0m\u001b[0;34m=\u001b[0m\u001b[0;32mFalse\u001b[0m\u001b[0;34m)\u001b[0m\u001b[0;34m\u001b[0m\u001b[0;34m\u001b[0m\u001b[0m\n\u001b[0m\u001b[1;32m    160\u001b[0m \u001b[0;34m\u001b[0m\u001b[0m\n\u001b[1;32m    161\u001b[0m         \u001b[0;32mdef\u001b[0m \u001b[0m_create_projection\u001b[0m\u001b[0;34m(\u001b[0m\u001b[0mself\u001b[0m\u001b[0;34m)\u001b[0m\u001b[0;34m:\u001b[0m\u001b[0;34m\u001b[0m\u001b[0;34m\u001b[0m\u001b[0m\n",
            "\u001b[0;32m/usr/local/lib/python3.10/dist-packages/pyglet/window/xlib/__init__.py\u001b[0m in \u001b[0;36m__init__\u001b[0;34m(self, *args, **kwargs)\u001b[0m\n\u001b[1;32m    136\u001b[0m                     \u001b[0mself\u001b[0m\u001b[0;34m.\u001b[0m\u001b[0m_event_handlers\u001b[0m\u001b[0;34m[\u001b[0m\u001b[0mmessage\u001b[0m\u001b[0;34m]\u001b[0m \u001b[0;34m=\u001b[0m \u001b[0mfunc\u001b[0m\u001b[0;34m\u001b[0m\u001b[0;34m\u001b[0m\u001b[0m\n\u001b[1;32m    137\u001b[0m \u001b[0;34m\u001b[0m\u001b[0m\n\u001b[0;32m--> 138\u001b[0;31m         \u001b[0msuper\u001b[0m\u001b[0;34m(\u001b[0m\u001b[0mXlibWindow\u001b[0m\u001b[0;34m,\u001b[0m \u001b[0mself\u001b[0m\u001b[0;34m)\u001b[0m\u001b[0;34m.\u001b[0m\u001b[0m__init__\u001b[0m\u001b[0;34m(\u001b[0m\u001b[0;34m*\u001b[0m\u001b[0margs\u001b[0m\u001b[0;34m,\u001b[0m \u001b[0;34m**\u001b[0m\u001b[0mkwargs\u001b[0m\u001b[0;34m)\u001b[0m\u001b[0;34m\u001b[0m\u001b[0;34m\u001b[0m\u001b[0m\n\u001b[0m\u001b[1;32m    139\u001b[0m \u001b[0;34m\u001b[0m\u001b[0m\n\u001b[1;32m    140\u001b[0m         \u001b[0;32mglobal\u001b[0m \u001b[0m_can_detect_autorepeat\u001b[0m\u001b[0;34m\u001b[0m\u001b[0;34m\u001b[0m\u001b[0m\n",
            "\u001b[0;32m/usr/local/lib/python3.10/dist-packages/pyglet/window/__init__.py\u001b[0m in \u001b[0;36m__init__\u001b[0;34m(self, width, height, caption, resizable, style, fullscreen, visible, vsync, file_drops, display, screen, config, context, mode)\u001b[0m\n\u001b[1;32m    512\u001b[0m \u001b[0;34m\u001b[0m\u001b[0m\n\u001b[1;32m    513\u001b[0m         \u001b[0;32mif\u001b[0m \u001b[0;32mnot\u001b[0m \u001b[0mdisplay\u001b[0m\u001b[0;34m:\u001b[0m\u001b[0;34m\u001b[0m\u001b[0;34m\u001b[0m\u001b[0m\n\u001b[0;32m--> 514\u001b[0;31m             \u001b[0mdisplay\u001b[0m \u001b[0;34m=\u001b[0m \u001b[0mpyglet\u001b[0m\u001b[0;34m.\u001b[0m\u001b[0mcanvas\u001b[0m\u001b[0;34m.\u001b[0m\u001b[0mget_display\u001b[0m\u001b[0;34m(\u001b[0m\u001b[0;34m)\u001b[0m\u001b[0;34m\u001b[0m\u001b[0;34m\u001b[0m\u001b[0m\n\u001b[0m\u001b[1;32m    515\u001b[0m \u001b[0;34m\u001b[0m\u001b[0m\n\u001b[1;32m    516\u001b[0m         \u001b[0;32mif\u001b[0m \u001b[0;32mnot\u001b[0m \u001b[0mscreen\u001b[0m\u001b[0;34m:\u001b[0m\u001b[0;34m\u001b[0m\u001b[0;34m\u001b[0m\u001b[0m\n",
            "\u001b[0;32m/usr/local/lib/python3.10/dist-packages/pyglet/canvas/__init__.py\u001b[0m in \u001b[0;36mget_display\u001b[0;34m()\u001b[0m\n\u001b[1;32m     57\u001b[0m \u001b[0;34m\u001b[0m\u001b[0m\n\u001b[1;32m     58\u001b[0m     \u001b[0;31m# Otherwise, create a new display and return it.\u001b[0m\u001b[0;34m\u001b[0m\u001b[0;34m\u001b[0m\u001b[0m\n\u001b[0;32m---> 59\u001b[0;31m     \u001b[0;32mreturn\u001b[0m \u001b[0mDisplay\u001b[0m\u001b[0;34m(\u001b[0m\u001b[0;34m)\u001b[0m\u001b[0;34m\u001b[0m\u001b[0;34m\u001b[0m\u001b[0m\n\u001b[0m\u001b[1;32m     60\u001b[0m \u001b[0;34m\u001b[0m\u001b[0m\n\u001b[1;32m     61\u001b[0m \u001b[0;34m\u001b[0m\u001b[0m\n",
            "\u001b[0;32m/usr/local/lib/python3.10/dist-packages/pyglet/canvas/xlib.py\u001b[0m in \u001b[0;36m__init__\u001b[0;34m(self, name, x_screen)\u001b[0m\n\u001b[1;32m     86\u001b[0m         \u001b[0mself\u001b[0m\u001b[0;34m.\u001b[0m\u001b[0m_display\u001b[0m \u001b[0;34m=\u001b[0m \u001b[0mxlib\u001b[0m\u001b[0;34m.\u001b[0m\u001b[0mXOpenDisplay\u001b[0m\u001b[0;34m(\u001b[0m\u001b[0mname\u001b[0m\u001b[0;34m)\u001b[0m\u001b[0;34m\u001b[0m\u001b[0;34m\u001b[0m\u001b[0m\n\u001b[1;32m     87\u001b[0m         \u001b[0;32mif\u001b[0m \u001b[0;32mnot\u001b[0m \u001b[0mself\u001b[0m\u001b[0;34m.\u001b[0m\u001b[0m_display\u001b[0m\u001b[0;34m:\u001b[0m\u001b[0;34m\u001b[0m\u001b[0;34m\u001b[0m\u001b[0m\n\u001b[0;32m---> 88\u001b[0;31m             \u001b[0;32mraise\u001b[0m \u001b[0mNoSuchDisplayException\u001b[0m\u001b[0;34m(\u001b[0m\u001b[0;34mf'Cannot connect to \"{name}\"'\u001b[0m\u001b[0;34m)\u001b[0m\u001b[0;34m\u001b[0m\u001b[0;34m\u001b[0m\u001b[0m\n\u001b[0m\u001b[1;32m     89\u001b[0m \u001b[0;34m\u001b[0m\u001b[0m\n\u001b[1;32m     90\u001b[0m         \u001b[0mscreen_count\u001b[0m \u001b[0;34m=\u001b[0m \u001b[0mxlib\u001b[0m\u001b[0;34m.\u001b[0m\u001b[0mXScreenCount\u001b[0m\u001b[0;34m(\u001b[0m\u001b[0mself\u001b[0m\u001b[0;34m.\u001b[0m\u001b[0m_display\u001b[0m\u001b[0;34m)\u001b[0m\u001b[0;34m\u001b[0m\u001b[0;34m\u001b[0m\u001b[0m\n",
            "\u001b[0;31mNoSuchDisplayException\u001b[0m: Cannot connect to \"None\""
          ]
        }
      ],
      "source": [
        "# long episode for interesting rendering.\n",
        "env = simple_speaker_listener_v3.env(max_cycles=100, continuous_actions=True)\n",
        "env.reset()\n",
        "\n",
        "# create a random policy for both agents' action spaces.\n",
        "policies = {\n",
        "    env.agents[0]: RandomPolicy(env.action_space(env.agents[0])),\n",
        "    env.agents[1]: RandomPolicy(env.action_space(env.agents[1]))\n",
        "}\n",
        "\n",
        "# run an episode\n",
        "for agent in env.agent_iter():\n",
        "    observation, reward, done, info = env.last()\n",
        "\n",
        "    # stop if done\n",
        "    if done:\n",
        "        break\n",
        "\n",
        "    # choose and execute action\n",
        "    action = policies[agent](observation)\n",
        "    env.step(action)\n",
        "\n",
        "    # render the environment\n",
        "    env.render('human')\n",
        "\n",
        "# This line is SUPPOSED to close the rendering window, but it does not.\n",
        "# restart the kernel close the window, and then don't run this cell again.\n",
        "env.close()"
      ]
    },
    {
      "cell_type": "markdown",
      "id": "28d1477e-81d8-4ac3-9bf8-2923060dfd6d",
      "metadata": {
        "id": "28d1477e-81d8-4ac3-9bf8-2923060dfd6d"
      },
      "source": [
        "## Advanced Tools\n",
        "\n",
        "### World Model\n",
        "\n",
        "All MPE environments define a world with customizable physical properties that make up the world model. The `pettingzoo.mpe._mpe_utils.core.World` object is the template for such a world. It contains a collection of `Entity` objects, divided into agents and landmarks. Both the world object and the different entities have physical attributes that affect transitions within the environment.\n",
        "\n",
        "Let us explore the Simple Speaker Listener environment's world attributes."
      ]
    },
    {
      "cell_type": "code",
      "execution_count": 9,
      "id": "204cc623-b088-4f06-b2ab-7388c0c59ddd",
      "metadata": {
        "id": "204cc623-b088-4f06-b2ab-7388c0c59ddd",
        "colab": {
          "base_uri": "https://localhost:8080/"
        },
        "outputId": "3215d200-f978-444e-e8d8-28ad0fd0cd3d"
      },
      "outputs": [
        {
          "output_type": "execute_result",
          "data": {
            "text/plain": [
              "{'agents': [<pettingzoo.mpe._mpe_utils.core.Agent at 0x7d15d02da800>,\n",
              "  <pettingzoo.mpe._mpe_utils.core.Agent at 0x7d15d02da650>],\n",
              " 'landmarks': [<pettingzoo.mpe._mpe_utils.core.Landmark at 0x7d15d02da500>,\n",
              "  <pettingzoo.mpe._mpe_utils.core.Landmark at 0x7d15d02d9720>,\n",
              "  <pettingzoo.mpe._mpe_utils.core.Landmark at 0x7d15d02db160>],\n",
              " 'dim_c': 3,\n",
              " 'dim_p': 2,\n",
              " 'dim_color': 3,\n",
              " 'dt': 0.1,\n",
              " 'damping': 0.25,\n",
              " 'contact_force': 100.0,\n",
              " 'contact_margin': 0.001,\n",
              " 'collaborative': True}"
            ]
          },
          "metadata": {},
          "execution_count": 9
        }
      ],
      "source": [
        "env = simple_speaker_listener_v3.env(continuous_actions=True)\n",
        "env.reset()\n",
        "\n",
        "# list environment \"world\" attributes\n",
        "vars(env.unwrapped.world)"
      ]
    },
    {
      "cell_type": "markdown",
      "id": "b32545a0-1982-42be-8fcf-c5126db00ba7",
      "metadata": {
        "id": "b32545a0-1982-42be-8fcf-c5126db00ba7"
      },
      "source": [
        "`agents` and `landmarks` are the world entities. The `dim_X` attributes define the dimensions of values in the environment, e.g., `dim_p` defines the world position dimensions (the default is a 2d world). The rest are physical properties that affect transitions:\n",
        "- `dt` - time units per step\n",
        "- `damping` - applies a multiplicative drag on moving agents.\n",
        "- `contact_force` and `contact_margin` - used to calculate collision force\n",
        "\n",
        "To complete our view of the world, let us explore an entity. Specifically, below are the attributes of the listener agent."
      ]
    },
    {
      "cell_type": "code",
      "execution_count": 10,
      "id": "7df31c8f-7ba9-423b-993b-065afb6ba988",
      "metadata": {
        "id": "7df31c8f-7ba9-423b-993b-065afb6ba988",
        "colab": {
          "base_uri": "https://localhost:8080/"
        },
        "outputId": "f3379f9b-b6cc-4720-e5fd-bf1fe53261e5"
      },
      "outputs": [
        {
          "output_type": "execute_result",
          "data": {
            "text/plain": [
              "{'name': 'listener_0',\n",
              " 'size': 0.075,\n",
              " 'movable': True,\n",
              " 'collide': False,\n",
              " 'density': 25.0,\n",
              " 'color': array([1.1, 0.6, 0.6]),\n",
              " 'max_speed': None,\n",
              " 'accel': None,\n",
              " 'state': <pettingzoo.mpe._mpe_utils.core.AgentState at 0x7d15d02dab60>,\n",
              " 'initial_mass': 1.0,\n",
              " 'silent': True,\n",
              " 'blind': False,\n",
              " 'u_noise': None,\n",
              " 'c_noise': None,\n",
              " 'u_range': 1.0,\n",
              " 'action': <pettingzoo.mpe._mpe_utils.core.Action at 0x7d15d02da710>,\n",
              " 'action_callback': None,\n",
              " 'goal_a': None,\n",
              " 'goal_b': None}"
            ]
          },
          "metadata": {},
          "execution_count": 10
        }
      ],
      "source": [
        "# list \"listener\" agent entity attributes\n",
        "vars(env.unwrapped.world.agents[1])"
      ]
    },
    {
      "cell_type": "markdown",
      "id": "de3e7274-09d5-47fa-8bec-9beebe5a1ce2",
      "metadata": {
        "id": "de3e7274-09d5-47fa-8bec-9beebe5a1ce2"
      },
      "source": [
        "Some interesting attributes:\n",
        "\n",
        "- `movable` - if `True`, the entity can change position via actions / collisions.\n",
        "- `collide` - if `True`, the entity can collide with other entities with `collide=True`\n",
        "- `max_speed` - a maximal limit on the velocity norm. if `None`, the speed is not bounded.\n",
        "- `accel` - a constant value that scales the force acceleration. The default is `None` which defaults to `5`.\n",
        "- `state` - contains the position, velocity, and communications vector of the entity.\n",
        "- `initial_mass` - the entity's mass\n",
        "- `u_noise` and `c_noise` - the standard deviation for additive, zero-mean Gaussian noise for the action force and communications respectively. `None` is equivalent to 0.\n",
        "- `u_range` - The maximal force that can be applied to the agent in any axis.\n",
        "\n",
        "As we can see, this environment has one movable agent that cannot collide with other entities, and whos actions are deterministic (i.e., no noise). In this scenario, when the listener performs its action `[x, right, left, up, down]` at time step $t$, the velocity and position of the agent is calculated as follows:\n",
        "$$u_{t} = [\\text{right} - \\text{left}, \\text{up} - \\text{down}]$$\n",
        "$$v_{t + 1} = v_{t}\\cdot (1 - \\text{damping}) + \\frac{u_{t} \\cdot\\text{accel}}{\\text{mass}}\\cdot \\text{dt}$$\n",
        "$$x_{t + 1} = x_{t} + v_{t + 1}\\cdot \\text{dt}$$\n",
        "\n",
        "The example below demonstrates how to extract use the world's physical attributes to determine the next velocity and position of the listener, and compares them to the actual environment update. We also show that it is possible to customize the environment by directly changing the `damping` value."
      ]
    },
    {
      "cell_type": "code",
      "execution_count": 11,
      "id": "dac11d40-96b9-46f6-8758-108658b0da77",
      "metadata": {
        "id": "dac11d40-96b9-46f6-8758-108658b0da77",
        "colab": {
          "base_uri": "https://localhost:8080/"
        },
        "outputId": "de28d9ba-801d-4b42-a47e-5e1cb0d651b0"
      },
      "outputs": [
        {
          "output_type": "stream",
          "name": "stdout",
          "text": [
            "expected next v: [0.25 0.  ]\n",
            "actual next v:   [0.25 0.  ]\n",
            "\n",
            "expected next x: [ 0.53931888 -0.52937982]\n",
            "actual next x:   [ 0.53931888 -0.52937982]\n"
          ]
        }
      ],
      "source": [
        "# get world and listener agent instances\n",
        "world = env.unwrapped.world\n",
        "listener = world.agents[1]\n",
        "\n",
        "# change world damping\n",
        "world.damping = 0.05\n",
        "\n",
        "# get constants\n",
        "dt = world.dt\n",
        "damping = world.damping\n",
        "accel = listener.accel or 5  # defaults to 5 if None\n",
        "mass = listener.mass\n",
        "v_prev = listener.state.p_vel\n",
        "x_prev = listener.state.p_pos\n",
        "\n",
        "# SET ACTION\n",
        "# values must be within [0, u_range]\n",
        "# x - nothing\n",
        "# r - right\n",
        "# l - left\n",
        "# u - up\n",
        "# d - down        [x, r,   l,    u,    d]\n",
        "ACTION = np.array([0, 1, 0.5, 0.75, 0.75], dtype=np.float32)\n",
        "\n",
        "# calculate the applied force\n",
        "# [right - left, up - down]\n",
        "u = ACTION[1::2] - ACTION[2::2]\n",
        "\n",
        "# calculate v_{t+1} and x_{t+1}\n",
        "expected_next_v = v_prev * (1 - damping) + ((u * accel) / mass) * dt\n",
        "expected_next_x = x_prev + expected_next_v * dt\n",
        "\n",
        "# do speaker step (ignoring this value in comunication)\n",
        "env.step(np.array([0, 0, 1], dtype=np.float32))\n",
        "\n",
        "# do listener step\n",
        "env.step(ACTION)\n",
        "\n",
        "actual_next_v = listener.state.p_vel\n",
        "actual_next_x = listener.state.p_pos\n",
        "\n",
        "print(f'expected next v: {expected_next_v}')\n",
        "print(f'actual next v:   {actual_next_v}')\n",
        "print()\n",
        "print(f'expected next x: {expected_next_x}')\n",
        "print(f'actual next x:   {actual_next_x}')"
      ]
    },
    {
      "cell_type": "markdown",
      "id": "08764396-5bc7-44e7-a8b4-e4d1266cb540",
      "metadata": {
        "id": "08764396-5bc7-44e7-a8b4-e4d1266cb540"
      },
      "source": [
        "Only by understanding the environment model can we hope to implement model-based algorithms, e.g., planning (BFS, DFS, A*, etc.). The above example showcases only the listener agent of a single environment using one configuration. To better understand the effect of different configurations (and in different MPE environments), e.g., introducing collisions between the speaker and listener agents, one must dive into the [MPE code](https://github.com/Farama-Foundation/PettingZoo/tree/master/pettingzoo/mpe). <span style=\"color:yellow\">Be warned</span> that this code is not fully documented."
      ]
    },
    {
      "cell_type": "markdown",
      "id": "ded75bf7-9524-4bf1-be5b-5197aaaa9109",
      "metadata": {
        "id": "ded75bf7-9524-4bf1-be5b-5197aaaa9109"
      },
      "source": [
        "### Wrappers\n",
        "\n",
        "PettingZoo provides utilities called wrappers. They are used to alter the behavior of the environment with minimal effort wihtout changing the general environment API. In fact, the Simple Speaker Listener environment already wrapped upon creation. In the below demonstration, we can see that the environment type is actually a wrapper called `OrderEnforcingWrapper`. This class works like the original environment and adds checks that enforce the agent order, and adds extra functionality, e.g. the `agent_iter` function is implemented in this wrapper (and is not available in the raw environment). The underlying environment, revealed using the environment's `env` attribute, is actually wrapped by another wrapper called `AssertOutOfBoundsWrapper`, which checks that given actions are compatible with the agents' discrete action space (similarly, the continuous action space uses another wrapper called `ClipOutOfBoundsWrapper`). Only under this wrapper do we find the raw environment object. However, we can jump directly to the raw environment by using the `unwrapped` property."
      ]
    },
    {
      "cell_type": "code",
      "execution_count": 12,
      "id": "d0496a79-fd0e-43dc-90af-6eb987ecc886",
      "metadata": {
        "id": "d0496a79-fd0e-43dc-90af-6eb987ecc886",
        "colab": {
          "base_uri": "https://localhost:8080/"
        },
        "outputId": "572569d7-09cc-474d-9c74-756cf4bd2b91"
      },
      "outputs": [
        {
          "output_type": "stream",
          "name": "stdout",
          "text": [
            "external wrapper:      <class 'pettingzoo.utils.wrappers.order_enforcing.OrderEnforcingWrapper'>\n",
            "inner wrapper:         <class 'pettingzoo.utils.wrappers.assert_out_of_bounds.AssertOutOfBoundsWrapper'>\n",
            "raw environment:       <class 'pettingzoo.mpe.simple_speaker_listener_v3.raw_env'>\n",
            "environment unwrapped: <class 'pettingzoo.mpe.simple_speaker_listener_v3.raw_env'>\n"
          ]
        }
      ],
      "source": [
        "env = simple_speaker_listener_v3.env()\n",
        "print(f'external wrapper:      {type(env)}')\n",
        "print(f'inner wrapper:         {type(env.env)}')\n",
        "print(f'raw environment:       {type(env.env.env)}')\n",
        "print(f'environment unwrapped: {type(env.unwrapped)}')"
      ]
    },
    {
      "cell_type": "markdown",
      "id": "2be00eb9-eb5c-4301-983e-b13c5ad918ab",
      "metadata": {
        "id": "2be00eb9-eb5c-4301-983e-b13c5ad918ab"
      },
      "source": [
        "#### Custom Wrappers\n",
        "\n",
        "Using the `BaseWrapper` abstraction, we can create our own wrappers. We demonstrate this below with a custom wrapper that turns this environment into a single-agent environment. This is done by skipping the speaker's step before the user has a chance to do so. The action will be the goal color if continuous or some constant message for each color if discrete. We the user to  "
      ]
    },
    {
      "cell_type": "code",
      "execution_count": 13,
      "id": "193718b3-71e3-47dd-b4ce-e3a74c52405e",
      "metadata": {
        "id": "193718b3-71e3-47dd-b4ce-e3a74c52405e"
      },
      "outputs": [],
      "source": [
        "from pettingzoo.utils import wrappers\n",
        "import numpy as np\n",
        "\n",
        "class ListenerOnlyWrapper(wrappers.BaseWrapper):\n",
        "\n",
        "    def __init__(self, env):\n",
        "        super().__init__(env)\n",
        "\n",
        "        # reset to skip speaker before new game\n",
        "        self.reset()\n",
        "\n",
        "        # set single agent list\n",
        "        self.agents = self.agents[1:]\n",
        "\n",
        "    def reset(self):\n",
        "        super().reset()\n",
        "\n",
        "        # skip speaker action\n",
        "        self.__step_speaker()\n",
        "\n",
        "    def step(self, action):\n",
        "        super().step(action)  # do listener action\n",
        "\n",
        "        # skip speaker action\n",
        "        self.__step_speaker()\n",
        "\n",
        "    def __step_speaker(self):\n",
        "        _, _, done, _ = self.env.last()\n",
        "        goal_color, _, done, _ = self.env.last()\n",
        "\n",
        "        # speaker is done before the listener.\n",
        "        if done:\n",
        "            return\n",
        "\n",
        "        # step with the correct action type\n",
        "        if self.env.unwrapped.continuous_actions:\n",
        "            super().step(goal_color)\n",
        "        else:\n",
        "            super().step(np.argmax(goal_color))"
      ]
    },
    {
      "cell_type": "markdown",
      "id": "adfc89c6-9834-4b7c-a1ad-5c5f821ab51f",
      "metadata": {
        "id": "adfc89c6-9834-4b7c-a1ad-5c5f821ab51f"
      },
      "source": [
        "We can add wrap a new environment by creating a new wrapper instance initialized with the wrapped environment."
      ]
    },
    {
      "cell_type": "code",
      "execution_count": 14,
      "id": "19732f47-9b7b-4666-b056-59395338bfa6",
      "metadata": {
        "id": "19732f47-9b7b-4666-b056-59395338bfa6",
        "colab": {
          "base_uri": "https://localhost:8080/"
        },
        "outputId": "b1cfca40-d6c5-4e17-bc98-5c93381699e9"
      },
      "outputs": [
        {
          "output_type": "stream",
          "name": "stdout",
          "text": [
            "custom wrapped environment: ListenerOnlyWrapper<simple_speaker_listener_v3>\n",
            "list of agents:             ['listener_0']\n"
          ]
        }
      ],
      "source": [
        "env = simple_speaker_listener_v3.env(max_cycles=5, continuous_actions=True)\n",
        "env = ListenerOnlyWrapper(env)\n",
        "print(f'custom wrapped environment: {env}')\n",
        "print(f'list of agents:             {env.agents}')"
      ]
    },
    {
      "cell_type": "markdown",
      "id": "94da8c5f-9b21-426e-943f-80de0396c683",
      "metadata": {
        "id": "94da8c5f-9b21-426e-943f-80de0396c683"
      },
      "source": [
        "Like before, we can simulate an episode with `agent_iter` which will now always select the listener. Note that the initial observation contains a communication vector of 0 because no communication is received before the first step. We can see the listener's observation in the following observations until the end of the episode"
      ]
    },
    {
      "cell_type": "code",
      "execution_count": 15,
      "id": "cc154024-5e7c-4008-8e9b-ab32e39dab19",
      "metadata": {
        "id": "cc154024-5e7c-4008-8e9b-ab32e39dab19",
        "colab": {
          "base_uri": "https://localhost:8080/"
        },
        "outputId": "e6605cef-e631-4a31-bc3e-76f0c254d538"
      },
      "outputs": [
        {
          "output_type": "stream",
          "name": "stdout",
          "text": [
            "listener_0 reward:      0.0\n",
            "listener_0 observation: [0.         0.         0.15570477 0.15391608 0.33444998 0.46569481\n",
            " 0.32899702 0.5594663  0.         0.         0.        ]\n",
            "listener_0 action:      [0.84514815 0.45035732 0.19813894 0.49018413 0.67777973]\n",
            "\n",
            "listener_0 reward:      -0.3292762612653518\n",
            "listener_0 observation: [ 0.12610918 -0.0937978   0.14309384  0.16329587  0.32183906  0.4750746\n",
            "  0.31638607  0.5688461   0.15        0.65        0.15      ]\n",
            "listener_0 action:      [0.01306371 0.14518864 0.95455503 0.41282827 0.78068334]\n",
            "\n",
            "listener_0 reward:      -0.37500499866941583\n",
            "listener_0 observation: [-0.31010133 -0.2542759   0.17410398  0.18872344  0.35284922  0.50050217\n",
            "  0.34739622  0.5942737   0.15        0.65        0.15      ]\n",
            "listener_0 action:      [0.6397377  0.93258286 0.3174549  0.11523887 0.33159626]\n",
            "\n",
            "listener_0 reward:      -0.4005812473292103\n",
            "listener_0 observation: [ 0.07498798 -0.2988856   0.16660517  0.21861202  0.3453504   0.53039074\n",
            "  0.33989742  0.62416226  0.15        0.65        0.15      ]\n",
            "listener_0 action:      [0.90537727 0.655656   0.5049055  0.6994969  0.81059694]\n",
            "\n",
            "listener_0 reward:      -0.42211770003700844\n",
            "listener_0 observation: [ 0.1316162  -0.27971423  0.15344356  0.24658343  0.33218879  0.5583622\n",
            "  0.3267358   0.65213364  0.15        0.65        0.15      ]\n",
            "listener_0 action:      [0.67872596 0.6937893  0.25110888 0.7737278  0.53760576]\n",
            "\n"
          ]
        }
      ],
      "source": [
        "policy = RandomPolicy(env.action_space(env.agents[0]))\n",
        "for agent in env.agent_iter():\n",
        "    observation, reward, done, info = env.last()\n",
        "\n",
        "    # stop if done\n",
        "    if done:\n",
        "        break\n",
        "\n",
        "    # choose and execute action\n",
        "    action = policy(observation)\n",
        "    env.step(action)\n",
        "\n",
        "    # log everything\n",
        "    print(f'{agent} reward:      {reward}')\n",
        "    print(f'{agent} observation: {observation}')\n",
        "    print(f'{agent} action:      {action}')\n",
        "    print()"
      ]
    },
    {
      "cell_type": "markdown",
      "id": "547b7dee-de48-4ea8-8591-e5fba0316e9d",
      "metadata": {
        "id": "547b7dee-de48-4ea8-8591-e5fba0316e9d"
      },
      "source": [
        "### Parallel Environments\n",
        "\n",
        "Up until now we were able to view each agent's observations and act individually, even though the actions were only applied after a full cycle through all the agents. Many PettingZoo environments support acting in parallel using yet another wrapper, including Simple Speaker Listener. This is important for implementing algorithms that consider joint actions, e.g., centralized control. We can create a parallel environment by invoking the `parallel_env` function."
      ]
    },
    {
      "cell_type": "code",
      "execution_count": 16,
      "id": "16ebf152-3750-42ef-bb15-6585074e72bc",
      "metadata": {
        "id": "16ebf152-3750-42ef-bb15-6585074e72bc"
      },
      "outputs": [],
      "source": [
        "env = simple_speaker_listener_v3.parallel_env()"
      ]
    },
    {
      "cell_type": "markdown",
      "id": "4214b307-5b96-49a3-8051-399da21d987b",
      "metadata": {
        "id": "4214b307-5b96-49a3-8051-399da21d987b"
      },
      "source": [
        "In this environment, both the observations of the speaker and listener agents are bundled together in a dictionary. The initial environment observations is returned from the `reset` function."
      ]
    },
    {
      "cell_type": "code",
      "execution_count": 17,
      "id": "063cdeba-ad2c-41d4-99d9-c187bde4cb96",
      "metadata": {
        "id": "063cdeba-ad2c-41d4-99d9-c187bde4cb96",
        "colab": {
          "base_uri": "https://localhost:8080/"
        },
        "outputId": "459a498a-e7cb-43ed-df5f-4599b359836f"
      },
      "outputs": [
        {
          "output_type": "execute_result",
          "data": {
            "text/plain": [
              "{'speaker_0': array([0.15, 0.15, 0.65], dtype=float32),\n",
              " 'listener_0': array([ 0.        ,  0.        ,  0.03836237, -0.14235032, -0.32846415,\n",
              "        -0.8317071 , -0.42850044, -0.99464464,  0.        ,  0.        ,\n",
              "         0.        ], dtype=float32)}"
            ]
          },
          "metadata": {},
          "execution_count": 17
        }
      ],
      "source": [
        "observations = env.reset()\n",
        "observations"
      ]
    },
    {
      "cell_type": "markdown",
      "id": "b6d8e41f-9bb7-417a-99fe-3aec12d20a68",
      "metadata": {
        "id": "b6d8e41f-9bb7-417a-99fe-3aec12d20a68"
      },
      "source": [
        "Actions are performed jointly using the `step` function. This will return the next observation bundle together with separate dictionaries for the reward and \"done\" status for each agent."
      ]
    },
    {
      "cell_type": "code",
      "execution_count": 18,
      "id": "7b6d600f-c229-48fa-b970-861bd03d0d61",
      "metadata": {
        "id": "7b6d600f-c229-48fa-b970-861bd03d0d61",
        "colab": {
          "base_uri": "https://localhost:8080/"
        },
        "outputId": "049ce47c-e0aa-40ba-a567-10356e4d3cf8"
      },
      "outputs": [
        {
          "output_type": "stream",
          "name": "stdout",
          "text": [
            "new observations:\n",
            "{'speaker_0': array([0.15, 0.15, 0.65], dtype=float32), 'listener_0': array([ 0.5       ,  0.        , -0.01163763, -0.14235032, -0.37846413,\n",
            "       -0.8317071 , -0.47850043, -0.99464464,  0.        ,  1.        ,\n",
            "        0.        ], dtype=float32)}\n",
            "step rewards:\n",
            "defaultdict(<class 'int'>, {'speaker_0': -1.2182806895631408, 'listener_0': -1.2182806895631408})\n",
            "done status:\n",
            "{'speaker_0': False, 'listener_0': False}\n"
          ]
        }
      ],
      "source": [
        "joint_action = {'speaker_0': 1, 'listener_0': 2}\n",
        "observations, rewards, done, info = env.step(joint_action)\n",
        "\n",
        "print('new observations:')\n",
        "print(observations)\n",
        "print('step rewards:')\n",
        "print(rewards)\n",
        "print('done status:')\n",
        "print(done)"
      ]
    },
    {
      "cell_type": "markdown",
      "id": "a4b8f35c-e50f-4a8b-bb75-d18bb384d3bf",
      "metadata": {
        "id": "a4b8f35c-e50f-4a8b-bb75-d18bb384d3bf"
      },
      "source": [
        "Putting it all together, a simulation might look something like this:"
      ]
    },
    {
      "cell_type": "code",
      "execution_count": 19,
      "id": "1b9d18ab-dc00-47b2-b053-cf06367f471d",
      "metadata": {
        "id": "1b9d18ab-dc00-47b2-b053-cf06367f471d",
        "colab": {
          "base_uri": "https://localhost:8080/"
        },
        "outputId": "c6c1f4e2-0063-40f0-d80b-6dbb5dd1ff35"
      },
      "outputs": [
        {
          "output_type": "stream",
          "name": "stdout",
          "text": [
            "rewards:      defaultdict(<class 'int'>, {'speaker_0': -1.2161602800380154, 'listener_0': -1.2161602800380154})\n",
            "observations: {'speaker_0': array([0.15, 0.15, 0.65], dtype=float32), 'listener_0': array([ 0.        ,  0.        , -0.22710977,  0.25424826, -1.3428159 ,\n",
            "        1.4488177 ,  0.54599226,  0.9581507 ,  1.        ,  0.        ,\n",
            "        0.        ], dtype=float32)}\n",
            "actions:      {'speaker_0': 0, 'listener_0': 0}\n",
            "\n",
            "rewards:      defaultdict(<class 'int'>, {'speaker_0': -1.2732595035206304, 'listener_0': -1.2732595035206304})\n",
            "observations: {'speaker_0': array([0.15, 0.15, 0.65], dtype=float32), 'listener_0': array([-0.5       ,  0.        , -0.17710978,  0.25424826, -1.2928158 ,\n",
            "        1.4488177 ,  0.5959922 ,  0.9581507 ,  0.        ,  1.        ,\n",
            "        0.        ], dtype=float32)}\n",
            "actions:      {'speaker_0': 1, 'listener_0': 1}\n",
            "\n",
            "rewards:      defaultdict(<class 'int'>, {'speaker_0': -1.3193651711325916, 'listener_0': -1.3193651711325916})\n",
            "observations: {'speaker_0': array([0.15, 0.15, 0.65], dtype=float32), 'listener_0': array([-0.375     ,  0.        , -0.13960977,  0.25424826, -1.2553159 ,\n",
            "        1.4488177 ,  0.63349223,  0.9581507 ,  1.        ,  0.        ,\n",
            "        0.        ], dtype=float32)}\n",
            "actions:      {'speaker_0': 0, 'listener_0': 0}\n",
            "\n",
            "rewards:      defaultdict(<class 'int'>, {'speaker_0': -1.262475055194237, 'listener_0': -1.262475055194237})\n",
            "observations: {'speaker_0': array([0.15, 0.15, 0.65], dtype=float32), 'listener_0': array([-0.28125   ,  0.5       , -0.11148477,  0.20424825, -1.2271909 ,\n",
            "        1.3988178 ,  0.6616172 ,  0.9081507 ,  0.        ,  1.        ,\n",
            "        0.        ], dtype=float32)}\n",
            "actions:      {'speaker_0': 1, 'listener_0': 4}\n",
            "\n"
          ]
        }
      ],
      "source": [
        "env = simple_speaker_listener_v3.parallel_env(max_cycles=5)\n",
        "observations = env.reset()\n",
        "\n",
        "# a random policy for each agent\n",
        "policies = {\n",
        "    env.agents[0]: RandomPolicy(env.action_space(env.agents[0])),\n",
        "    env.agents[1]: RandomPolicy(env.action_space(env.agents[1]))\n",
        "}\n",
        "\n",
        "for _ in range(env.unwrapped.max_cycles):\n",
        "    joint_action = {agent: policies[agent](obs) for agent, obs in observations.items()}\n",
        "    observations, rewards, done, info = env.step(joint_action)\n",
        "\n",
        "    if any(done.values()):\n",
        "        break\n",
        "\n",
        "    # log everything\n",
        "    print(f'rewards:      {rewards}')\n",
        "    print(f'observations: {observations}')\n",
        "    print(f'actions:      {joint_action}')\n",
        "    print()"
      ]
    },
    {
      "cell_type": "markdown",
      "id": "acb81bbb-a237-49ad-ac77-462524359b24",
      "metadata": {
        "id": "acb81bbb-a237-49ad-ac77-462524359b24"
      },
      "source": [
        "### Other Environments\n",
        "\n",
        "There already exists a single-agent and single-landmark version of Simple Speaker Listener, called Simple. Here, the one agent acts like the listener and has a simplified observation space containing the agent's velocity and the landmark's relative location. There are other, more complex environments in the MPE library and other environment libraries in PettingZoo. You can explore them in the [PettingZoo Website](https://pettingzoo.farama.org/)."
      ]
    },
    {
      "cell_type": "code",
      "execution_count": 20,
      "id": "4d1577e7-21b8-47a2-9536-5b6455bd9c91",
      "metadata": {
        "id": "4d1577e7-21b8-47a2-9536-5b6455bd9c91",
        "colab": {
          "base_uri": "https://localhost:8080/"
        },
        "outputId": "ad48fca8-25cd-47ef-ea1f-8b65535f2628"
      },
      "outputs": [
        {
          "output_type": "stream",
          "name": "stdout",
          "text": [
            "discrete actions:\n",
            "- agent 1: speaker_0\n",
            "\t- observation space: Box(-inf, inf, (3,), float32)\n",
            "\t- action space: Discrete(3)\n",
            "- agent 2: listener_0\n",
            "\t- observation space: Box(-inf, inf, (11,), float32)\n",
            "\t- action space: Discrete(5)\n",
            "\n",
            "continuous actions:\n",
            "- agent 1: speaker_0\n",
            "\t- observation space: Box(-inf, inf, (3,), float32)\n",
            "\t- action space: Box(0.0, 1.0, (3,), float32)\n",
            "- agent 2: listener_0\n",
            "\t- observation space: Box(-inf, inf, (11,), float32)\n",
            "\t- action space: Box(0.0, 1.0, (5,), float32)\n"
          ]
        }
      ],
      "source": [
        "from pettingzoo.mpe import simple_v2\n",
        "\n",
        "\n",
        "print_env_info(continuous_actions=False)\n",
        "print()\n",
        "print_env_info(continuous_actions=True)"
      ]
    },
    {
      "cell_type": "code",
      "source": [],
      "metadata": {
        "id": "L5sJ-A8HeGVL"
      },
      "id": "L5sJ-A8HeGVL",
      "execution_count": null,
      "outputs": []
    }
  ],
  "metadata": {
    "kernelspec": {
      "display_name": "Python 3 (ipykernel)",
      "language": "python",
      "name": "python3"
    },
    "language_info": {
      "codemirror_mode": {
        "name": "ipython",
        "version": 3
      },
      "file_extension": ".py",
      "mimetype": "text/x-python",
      "name": "python",
      "nbconvert_exporter": "python",
      "pygments_lexer": "ipython3",
      "version": "3.9.13"
    },
    "colab": {
      "provenance": []
    }
  },
  "nbformat": 4,
  "nbformat_minor": 5
}